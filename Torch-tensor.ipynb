{
 "cells": [
  {
   "attachments": {},
   "cell_type": "markdown",
   "metadata": {},
   "source": [
    "## 张量\n",
    "### 1.概念\n",
    "        (1)标量（0阶张量）：只有大小，没有方向。\n",
    "        (2)向量（1阶张量）：笛卡尔坐标系的概念：基向量（大小为1，方向为坐标轴方向）\n",
    "        m维张量可以看作m-1维张量在某个方向上的堆叠"
   ]
  },
  {
   "attachments": {},
   "cell_type": "markdown",
   "metadata": {},
   "source": [
    "        Pytorch中常见的张量生成方法如下，大部分操作与Numpy中的操作指令类似，如果构建时不声明张量的数据类型。一般会默认为float32"
   ]
  },
  {
   "cell_type": "code",
   "execution_count": 8,
   "metadata": {},
   "outputs": [
    {
     "name": "stdout",
     "output_type": "stream",
     "text": [
      "1.7.1+cu110\n",
      "11.0\n",
      "tensor([3, 3])\n",
      "tensor([[-5.6912e+29,  4.5671e-41, -1.1711e+18],\n",
      "        [ 3.0938e-41,  4.4842e-44,  0.0000e+00],\n",
      "        [ 1.5695e-43,  0.0000e+00, -1.1711e+18]])\n",
      "tensor([[0.8843, 0.2751, 0.2441],\n",
      "        [0.4253, 0.4042, 0.0788],\n",
      "        [0.1628, 0.9006, 0.6550]])\n",
      "tensor([[0., 0., 0.],\n",
      "        [0., 0., 0.],\n",
      "        [0., 0., 0.]])\n",
      "tensor([[1., 1., 1.],\n",
      "        [1., 1., 1.],\n",
      "        [1., 1., 1.]])\n"
     ]
    }
   ],
   "source": [
    "import torch\n",
    "#构造一个默认Float型的张量\n",
    "tensor_1 = torch.tensor((3,3))\n",
    "print(tensor_1)\n",
    "\n",
    "#构造一个无初始化定义的张量\n",
    "tensor_2 = torch.empty((3,3))\n",
    "print(tensor_2)\n",
    "\n",
    "#构造一个随机初始化的矩阵\n",
    "tensor_3 = torch.rand((3,3))\n",
    "print(tensor_3)\n",
    "\n",
    "#构造一个0元素矩阵\n",
    "tensor_4 = torch.zeros((3,3))\n",
    "print(tensor_4)\n",
    "\n",
    "#构造一个元素全为1的矩阵\n",
    "tensor_5 = torch.ones((3,3))\n",
    "print(tensor_5)"
   ]
  },
  {
   "attachments": {},
   "cell_type": "markdown",
   "metadata": {},
   "source": [
    "        Pytorch中提供的与Numpy数据之间的相互转换，转换过程不影响我们的数据类型，数据类型必须保持一致"
   ]
  },
  {
   "cell_type": "code",
   "execution_count": 9,
   "metadata": {},
   "outputs": [
    {
     "name": "stdout",
     "output_type": "stream",
     "text": [
      "tensor([[ 0.9406, -1.1957,  1.0582],\n",
      "        [-1.1807,  0.0202, -0.0681],\n",
      "        [-0.1489, -1.3617,  0.0595]]) \n",
      " [[ 0.9405561  -1.1956948   1.0581717 ]\n",
      " [-1.1807301   0.02020014 -0.0681175 ]\n",
      " [-0.14894292 -1.3616508   0.05954116]]\n",
      "[[2 3]\n",
      " [4 5]\n",
      " [6 7]] \n",
      " tensor([[2, 3],\n",
      "        [4, 5],\n",
      "        [6, 7]])\n"
     ]
    }
   ],
   "source": [
    "import numpy as np\n",
    "#tensor转numpy\n",
    "t1 = torch.randn((3,3))\n",
    "#构建3X3元素的随机的tensor\n",
    "t1_numpy = t1.numpy()\n",
    "print(t1, \"\\n\", t1_numpy)\n",
    "#numpy转换为tensor\n",
    "#构建numpy格式的矩阵\n",
    "t1_numpy = np.array([[2,3],[4,5],[6,7]])\n",
    "t1_torch = torch.from_numpy(t1_numpy)\n",
    "print(t1_numpy, \"\\n\", t1_torch)"
   ]
  },
  {
   "attachments": {},
   "cell_type": "markdown",
   "metadata": {},
   "source": [
    "        Pytorch中的张量基本操作\n",
    "        形状查看及更改：在张量做加减乘除等运算时，需要保证张量的形状一致，往往需要对某些张量进行更改"
   ]
  },
  {
   "cell_type": "code",
   "execution_count": 10,
   "metadata": {},
   "outputs": [
    {
     "name": "stdout",
     "output_type": "stream",
     "text": [
      "torch.Size([3, 3])\n"
     ]
    }
   ],
   "source": [
    "import torch\n",
    "import numpy as np\n",
    "t1 = torch.randn((3,3)) # 构建 3 × 3 元素随机的 tensor\n",
    "shape = t1.shape # 返回张量的维度 torchsize([3,3]), 也可以通过 tl size() 查看\n",
    "print(shape)"
   ]
  },
  {
   "cell_type": "code",
   "execution_count": 11,
   "metadata": {},
   "outputs": [
    {
     "name": "stdout",
     "output_type": "stream",
     "text": [
      "tensor([[ 0.2480, -0.6336,  0.8917],\n",
      "        [-0.2698,  0.9942,  0.3458],\n",
      "        [ 1.1079, -0.0400, -0.4591]])\n",
      "tensor([[ 0.2480, -0.6336,  0.8917, -0.2698,  0.9942,  0.3458,  1.1079, -0.0400,\n",
      "         -0.4591]])\n"
     ]
    }
   ],
   "source": [
    "print(t1)\n",
    "t1_resize = t1.resize_(1,9) # 重构成 torch.size([1,9])\n",
    "print(t1_resize)"
   ]
  },
  {
   "cell_type": "code",
   "execution_count": 12,
   "metadata": {},
   "outputs": [
    {
     "name": "stdout",
     "output_type": "stream",
     "text": [
      "tensor([[ 0.2480, -0.6336,  0.8917, -0.2698,  0.9942,  0.3458,  1.1079, -0.0400,\n",
      "         -0.4591]])\n",
      "tensor([ 0.2480, -0.6336,  0.8917, -0.2698,  0.9942,  0.3458,  1.1079, -0.0400,\n",
      "        -0.4591])\n"
     ]
    }
   ],
   "source": [
    "print(t1)\n",
    "t1_view = t1.view(-1)# 拉伸成一维张量 torchsize([9J\n",
    "print(t1_view)"
   ]
  },
  {
   "cell_type": "code",
   "execution_count": null,
   "metadata": {},
   "outputs": [],
   "source": [
    "t1.unsqueeze = torch.unsqueeze(t1,dim=0) # 增添维度 ， 结果为 torch.size([1,3,3])\n",
    "t1.squeeze = torch.squeeze(t1,dim=0) # 删减维度结果为 torch.size([3])\n",
    "t1.flatten = torch.flatten(t1) # 将两个维度间的元素进行拉伸 ， 结果为 torchsize([9])"
   ]
  }
 ],
 "metadata": {
  "kernelspec": {
   "display_name": "torch",
   "language": "python",
   "name": "python3"
  },
  "language_info": {
   "codemirror_mode": {
    "name": "ipython",
    "version": 3
   },
   "file_extension": ".py",
   "mimetype": "text/x-python",
   "name": "python",
   "nbconvert_exporter": "python",
   "pygments_lexer": "ipython3",
   "version": "3.8.16"
  },
  "orig_nbformat": 4
 },
 "nbformat": 4,
 "nbformat_minor": 2
}
